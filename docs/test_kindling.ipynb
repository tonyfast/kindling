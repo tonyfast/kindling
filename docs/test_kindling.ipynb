{
  "nbformat": 4,
  "nbformat_minor": 5,
  "cells": [
    {
      "cell_type": "markdown",
      "metadata": {},
      "source": "# {name} tests"
    },
    {
      "id": "bf4bb6cf-901a-11ec-b6b9-18cc18dc77eb",
      "cell_type": "code",
      "metadata": {},
      "execution_count": null,
      "source": "    import kindling",
      "outputs": []
    }
  ]
}
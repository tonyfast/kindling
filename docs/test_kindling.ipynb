{
  "cells": [
    {
      "cell_type": "markdown",
      "id": "49e46e16",
      "metadata": {},
      "source": [
        "# {name} tests"
      ]
    },
    {
      "cell_type": "code",
      "execution_count": 1,
      "id": "e6fc3a69-903c-11ec-8590-18cc18dc77eb",
      "metadata": {},
      "outputs": [
        {
          "data": {
            "text/plain": [
              "<module 'kindling' from 'c:\\\\users\\\\tbone\\\\documents\\\\kindling\\\\src\\\\kindling\\\\__init__.py'>"
            ]
          },
          "execution_count": 1,
          "metadata": {},
          "output_type": "execute_result"
        }
      ],
      "source": [
        "    import kindling\n",
        "    kindling"
      ]
    },
    {
      "cell_type": "code",
      "execution_count": null,
      "id": "70a40b91",
      "metadata": {},
      "outputs": [],
      "source": []
    }
  ],
  "metadata": {
    "interpreter": {
      "hash": "eabeec6a387533d07690ae52893a04325dec2792d4c2d87fb1f60c99249d465d"
    },
    "kernelspec": {
      "display_name": "Python 3.9.7 ('base')",
      "language": "python",
      "name": "python3"
    },
    "language_info": {
      "codemirror_mode": {
        "name": "ipython",
        "version": 3
      },
      "file_extension": ".py",
      "mimetype": "text/x-python",
      "name": "python",
      "nbconvert_exporter": "python",
      "pygments_lexer": "ipython3",
      "version": "3.9.7"
    }
  },
  "nbformat": 4,
  "nbformat_minor": 5
}

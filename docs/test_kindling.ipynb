{
 "cells": [
  {
   "cell_type": "markdown",
   "id": "9357e412",
   "metadata": {},
   "source": [
    "# `kindling` tests"
   ]
  },
  {
   "cell_type": "code",
   "execution_count": 1,
   "id": "39c614df-903f-11ec-9e31-18cc18dc77eb",
   "metadata": {},
   "outputs": [
    {
     "data": {
      "text/plain": [
       "<module 'kindling' from 'c:\\\\users\\\\tbone\\\\documents\\\\kindling\\\\src\\\\kindling\\\\__init__.py'>"
      ]
     },
     "execution_count": 1,
     "metadata": {},
     "output_type": "execute_result"
    }
   ],
   "source": [
    "    import kindling\n",
    "    kindling"
   ]
  },
  {
   "cell_type": "markdown",
   "id": "028c37b7-dc0e-474f-9ded-d7a22e0637d2",
   "metadata": {},
   "source": [
    "## `IPython` extension\n",
    "\n",
    "you can access the `kindling` tasks as an `IPython` magic."
   ]
  },
  {
   "cell_type": "code",
   "execution_count": 2,
   "id": "3cea7856",
   "metadata": {},
   "outputs": [],
   "source": [
    "    %load_ext kindling\n",
    "    %unload_ext kindling\n",
    "    %reload_ext kindling"
   ]
  },
  {
   "cell_type": "code",
   "execution_count": 3,
   "id": "1e6a9137",
   "metadata": {},
   "outputs": [
    {
     "name": "stdout",
     "output_type": "stream",
     "text": [
      "\n",
      "new\n",
      "\n",
      "start a new project\n",
      "\n",
      "status     : run\n",
      " * The task has no dependencies.\n",
      "\n",
      "task_dep   : \n",
      " - new:pyproject\n",
      " - new:setupcfg\n",
      " - new:toc\n",
      " - new:config\n",
      " - new:nb\n",
      " - new:gitignore\n",
      " - new:release\n",
      " - new:test\n",
      " - new:docs\n",
      " - new:git\n",
      " - new:nox\n",
      " - new:nbval-sanitize\n",
      " - new:python\n",
      " - new:readme\n"
     ]
    }
   ],
   "source": [
    "    %doit info new"
   ]
  },
  {
   "cell_type": "markdown",
   "id": "e016dca3-5718-4595-a2e6-711eb0b978f6",
   "metadata": {},
   "source": [
    "## command line interface\n",
    "\n",
    "`kindling` inherits the `doit` cli with our specific tasks"
   ]
  },
  {
   "cell_type": "code",
   "execution_count": 4,
   "id": "16e5695a",
   "metadata": {},
   "outputs": [
    {
     "name": "stdout",
     "output_type": "stream",
     "text": [
      "\n",
      "new\n",
      "\n",
      "start a new project\n",
      "\n",
      "status     : run\n",
      " * The task has no dependencies.\n",
      "\n",
      "task_dep   : \n",
      " - new:pyproject\n",
      " - new:setupcfg\n",
      " - new:toc\n",
      " - new:config\n",
      " - new:nb\n",
      " - new:gitignore\n",
      " - new:release\n",
      " - new:test\n",
      " - new:docs\n",
      " - new:git\n",
      " - new:nox\n",
      " - new:nbval-sanitize\n",
      " - new:python\n",
      " - new:readme\n"
     ]
    }
   ],
   "source": [
    "    !python -m kindling info new"
   ]
  }
 ],
 "metadata": {
  "kernelspec": {
   "display_name": "Python 3 (ipykernel)",
   "language": "python",
   "name": "python3"
  },
  "language_info": {
   "codemirror_mode": {
    "name": "ipython",
    "version": 3
   },
   "file_extension": ".py",
   "mimetype": "text/x-python",
   "name": "python",
   "nbconvert_exporter": "python",
   "pygments_lexer": "ipython3",
   "version": "3.9.7"
  }
 },
 "nbformat": 4,
 "nbformat_minor": 5
}

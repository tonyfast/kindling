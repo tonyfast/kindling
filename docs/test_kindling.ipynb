{
  "cells": [
    {
      "cell_type": "markdown",
      "id": "9357e412",
      "metadata": {},
      "source": [
        "# `kindling` tests"
      ]
    },
    {
      "cell_type": "code",
      "execution_count": 1,
      "id": "39c614df-903f-11ec-9e31-18cc18dc77eb",
      "metadata": {},
      "outputs": [
        {
          "data": {
            "text/plain": [
              "<module 'kindling' from 'c:\\\\users\\\\tbone\\\\documents\\\\kindling\\\\src\\\\kindling\\\\__init__.py'>"
            ]
          },
          "execution_count": 1,
          "metadata": {},
          "output_type": "execute_result"
        }
      ],
      "source": [
        "    import kindling\n",
        "    kindling"
      ]
    },
    {
      "cell_type": "code",
      "execution_count": 2,
      "id": "3cea7856",
      "metadata": {},
      "outputs": [],
      "source": [
        "    %load_ext kindling\n",
        "    %unload_ext kindling\n",
        "    %reload_ext kindling"
      ]
    },
    {
      "cell_type": "code",
      "execution_count": 3,
      "id": "1e6a9137",
      "metadata": {},
      "outputs": [
        {
          "name": "stdout",
          "output_type": "stream",
          "text": [
            "\n",
            "new\n",
            "\n",
            "start a new project\n",
            "\n",
            "status     : run\n",
            " * The task has no dependencies.\n",
            "\n",
            "task_dep   : \n",
            " - new:pyproject\n",
            " - new:setupcfg\n",
            " - new:toc\n",
            " - new:config\n",
            " - new:nb\n",
            " - new:gitignore\n",
            " - new:release\n",
            " - new:test\n",
            " - new:git\n",
            " - new:nox\n",
            " - new:nbval-sanitize\n",
            " - new:python\n",
            " - new:readme\n"
          ]
        }
      ],
      "source": [
        "%doit info  new"
      ]
    },
    {
      "cell_type": "code",
      "execution_count": null,
      "id": "16e5695a",
      "metadata": {},
      "outputs": [],
      "source": []
    }
  ],
  "metadata": {
    "language_info": {
      "name": "python"
    }
  },
  "nbformat": 4,
  "nbformat_minor": 5
}
